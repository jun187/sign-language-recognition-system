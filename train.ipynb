{
 "cells": [
  {
   "cell_type": "code",
   "execution_count": 302,
   "metadata": {
    "pycharm": {
     "name": "#%%\n"
    }
   },
   "outputs": [],
   "source": [
    "import csv\n",
    "import numpy as np\n",
    "import tensorflow as tf\n",
    "from sklearn.model_selection import train_test_split\n",
    "RANDOM_SEED = 42"
   ]
  },
  {
   "cell_type": "code",
   "execution_count": 303,
   "metadata": {
    "pycharm": {
     "name": "#%%\n"
    }
   },
   "outputs": [],
   "source": [
    "\n",
    "dataset = 'model/keypoint_classifier/keypoint.csv'\n",
    "model_save_path = 'model/keypoint_classifier/keypoint_classifier_new.h5'"
   ]
  },
  {
   "cell_type": "code",
   "execution_count": 304,
   "metadata": {
    "pycharm": {
     "name": "#%%\n"
    }
   },
   "outputs": [],
   "source": [
    "NUM_CLASSES = 24"
   ]
  },
  {
   "cell_type": "code",
   "execution_count": 305,
   "metadata": {
    "pycharm": {
     "name": "#%%\n"
    }
   },
   "outputs": [],
   "source": [
    "X_dataset = np.loadtxt(dataset, delimiter=',', dtype='float32', usecols=list(range(1, (21 * 2) + 1)))"
   ]
  },
  {
   "cell_type": "code",
   "execution_count": 306,
   "metadata": {
    "pycharm": {
     "name": "#%%\n"
    }
   },
   "outputs": [],
   "source": [
    "y_dataset = np.loadtxt(dataset, delimiter=',', dtype='int32', usecols=(0))"
   ]
  },
  {
   "cell_type": "code",
   "execution_count": 307,
   "metadata": {
    "pycharm": {
     "name": "#%%\n"
    }
   },
   "outputs": [
    {
     "name": "stdout",
     "output_type": "stream",
     "text": [
      "11807\n",
      "11807\n"
     ]
    }
   ],
   "source": [
    "print(len(X_dataset))\n",
    "print(len(y_dataset))"
   ]
  },
  {
   "cell_type": "code",
   "execution_count": 308,
   "metadata": {
    "pycharm": {
     "name": "#%%\n"
    }
   },
   "outputs": [
    {
     "name": "stdout",
     "output_type": "stream",
     "text": [
      "[ 0  0  0 ... 23 23 23]\n",
      "(11807, 42)\n"
     ]
    }
   ],
   "source": [
    "print(y_dataset)\n",
    "print(X_dataset.shape)"
   ]
  },
  {
   "cell_type": "code",
   "execution_count": 309,
   "metadata": {
    "pycharm": {
     "name": "#%%\n"
    }
   },
   "outputs": [],
   "source": [
    "train_ratio = 0.80\n",
    "test_ratio = 0.20\n",
    "\n",
    "X_train, X_test, y_train, y_test = train_test_split(X_dataset, y_dataset, test_size=1-train_ratio, random_state=RANDOM_SEED)"
   ]
  },
  {
   "cell_type": "code",
   "execution_count": 310,
   "metadata": {
    "pycharm": {
     "name": "#%%\n"
    }
   },
   "outputs": [],
   "source": [
    "model = tf.keras.models.Sequential([\n",
    "    tf.keras.layers.Input((21 * 2, )),\n",
    "    tf.keras.layers.Dropout(0.2),\n",
    "    tf.keras.layers.Dense(20, activation='relu'),\n",
    "    tf.keras.layers.Dropout(0.4),\n",
    "    tf.keras.layers.Dense(10, activation='relu'),\n",
    "    tf.keras.layers.Dense(NUM_CLASSES, activation='softmax')\n",
    "])"
   ]
  },
  {
   "cell_type": "code",
   "execution_count": 311,
   "metadata": {
    "pycharm": {
     "name": "#%%\n"
    }
   },
   "outputs": [],
   "source": [
    "model.compile(optimizer='adam',loss='sparse_categorical_crossentropy',metrics=['accuracy'])"
   ]
  },
  {
   "cell_type": "code",
   "execution_count": 312,
   "metadata": {
    "pycharm": {
     "name": "#%%\n"
    }
   },
   "outputs": [],
   "source": [
    "cp_callback = tf.keras.callbacks.ModelCheckpoint(model_save_path, verbose=1, save_weights_only=False)\n",
    "es_callback = tf.keras.callbacks.EarlyStopping(patience=20, verbose=1)"
   ]
  },
  {
   "cell_type": "code",
   "execution_count": 313,
   "metadata": {
    "pycharm": {
     "name": "#%%\n"
    }
   },
   "outputs": [
    {
     "name": "stdout",
     "output_type": "stream",
     "text": [
      "Model: \"sequential_16\"\n",
      "_________________________________________________________________\n",
      " Layer (type)                Output Shape              Param #   \n",
      "=================================================================\n",
      " dropout_32 (Dropout)        (None, 42)                0         \n",
      "                                                                 \n",
      " dense_48 (Dense)            (None, 20)                860       \n",
      "                                                                 \n",
      " dropout_33 (Dropout)        (None, 20)                0         \n",
      "                                                                 \n",
      " dense_49 (Dense)            (None, 10)                210       \n",
      "                                                                 \n",
      " dense_50 (Dense)            (None, 24)                264       \n",
      "                                                                 \n",
      "=================================================================\n",
      "Total params: 1,334\n",
      "Trainable params: 1,334\n",
      "Non-trainable params: 0\n",
      "_________________________________________________________________\n"
     ]
    }
   ],
   "source": [
    "model.summary()"
   ]
  },
  {
   "cell_type": "code",
   "execution_count": 314,
   "metadata": {
    "pycharm": {
     "name": "#%%\n"
    }
   },
   "outputs": [
    {
     "name": "stdout",
     "output_type": "stream",
     "text": [
      "Epoch 1/500\n",
      "35/74 [=============>................] - ETA: 0s - loss: 3.1809 - accuracy: 0.0571 \n",
      "Epoch 00001: saving model to model/keypoint_classifier\\keypoint_classifier_new.h5\n",
      "74/74 [==============================] - 1s 3ms/step - loss: 3.1501 - accuracy: 0.0626 - val_loss: 3.0647 - val_accuracy: 0.1334\n",
      "Epoch 2/500\n",
      "39/74 [==============>...............] - ETA: 0s - loss: 3.0528 - accuracy: 0.0966\n",
      "Epoch 00002: saving model to model/keypoint_classifier\\keypoint_classifier_new.h5\n",
      "74/74 [==============================] - 0s 2ms/step - loss: 3.0152 - accuracy: 0.1019 - val_loss: 2.8388 - val_accuracy: 0.1406\n",
      "Epoch 3/500\n",
      "37/74 [==============>...............] - ETA: 0s - loss: 2.8760 - accuracy: 0.1282\n",
      "Epoch 00003: saving model to model/keypoint_classifier\\keypoint_classifier_new.h5\n",
      "74/74 [==============================] - 0s 2ms/step - loss: 2.8138 - accuracy: 0.1452 - val_loss: 2.5887 - val_accuracy: 0.2350\n",
      "Epoch 4/500\n",
      "56/74 [=====================>........] - ETA: 0s - loss: 2.6460 - accuracy: 0.1871\n",
      "Epoch 00004: saving model to model/keypoint_classifier\\keypoint_classifier_new.h5\n",
      "74/74 [==============================] - 0s 3ms/step - loss: 2.6231 - accuracy: 0.1953 - val_loss: 2.3497 - val_accuracy: 0.3963\n",
      "Epoch 5/500\n",
      "73/74 [============================>.] - ETA: 0s - loss: 2.4715 - accuracy: 0.2308\n",
      "Epoch 00005: saving model to model/keypoint_classifier\\keypoint_classifier_new.h5\n",
      "74/74 [==============================] - 0s 2ms/step - loss: 2.4721 - accuracy: 0.2304 - val_loss: 2.1495 - val_accuracy: 0.4462\n",
      "Epoch 6/500\n",
      "64/74 [========================>.....] - ETA: 0s - loss: 2.3309 - accuracy: 0.2733\n",
      "Epoch 00006: saving model to model/keypoint_classifier\\keypoint_classifier_new.h5\n",
      "74/74 [==============================] - 0s 2ms/step - loss: 2.3237 - accuracy: 0.2760 - val_loss: 1.9805 - val_accuracy: 0.5169\n",
      "Epoch 7/500\n",
      "69/74 [==========================>...] - ETA: 0s - loss: 2.2304 - accuracy: 0.2980\n",
      "Epoch 00007: saving model to model/keypoint_classifier\\keypoint_classifier_new.h5\n",
      "74/74 [==============================] - 0s 2ms/step - loss: 2.2294 - accuracy: 0.2979 - val_loss: 1.8374 - val_accuracy: 0.5385\n",
      "Epoch 8/500\n",
      "68/74 [==========================>...] - ETA: 0s - loss: 2.1448 - accuracy: 0.3210\n",
      "Epoch 00008: saving model to model/keypoint_classifier\\keypoint_classifier_new.h5\n",
      "74/74 [==============================] - 0s 2ms/step - loss: 2.1472 - accuracy: 0.3188 - val_loss: 1.7128 - val_accuracy: 0.6160\n",
      "Epoch 9/500\n",
      "65/74 [=========================>....] - ETA: 0s - loss: 2.0458 - accuracy: 0.3540\n",
      "Epoch 00009: saving model to model/keypoint_classifier\\keypoint_classifier_new.h5\n",
      "74/74 [==============================] - 0s 2ms/step - loss: 2.0416 - accuracy: 0.3547 - val_loss: 1.5652 - val_accuracy: 0.6431\n",
      "Epoch 10/500\n",
      "68/74 [==========================>...] - ETA: 0s - loss: 1.9944 - accuracy: 0.3557\n",
      "Epoch 00010: saving model to model/keypoint_classifier\\keypoint_classifier_new.h5\n",
      "74/74 [==============================] - 0s 2ms/step - loss: 1.9888 - accuracy: 0.3574 - val_loss: 1.4666 - val_accuracy: 0.6905\n",
      "Epoch 11/500\n",
      "36/74 [=============>................] - ETA: 0s - loss: 1.9245 - accuracy: 0.3900\n",
      "Epoch 00011: saving model to model/keypoint_classifier\\keypoint_classifier_new.h5\n",
      "74/74 [==============================] - 0s 2ms/step - loss: 1.9068 - accuracy: 0.3891 - val_loss: 1.3720 - val_accuracy: 0.7549\n",
      "Epoch 12/500\n",
      "39/74 [==============>...............] - ETA: 0s - loss: 1.8639 - accuracy: 0.3994\n",
      "Epoch 00012: saving model to model/keypoint_classifier\\keypoint_classifier_new.h5\n",
      "74/74 [==============================] - 0s 2ms/step - loss: 1.8487 - accuracy: 0.4016 - val_loss: 1.2916 - val_accuracy: 0.7773\n",
      "Epoch 13/500\n",
      "38/74 [==============>...............] - ETA: 0s - loss: 1.8239 - accuracy: 0.4005\n",
      "Epoch 00013: saving model to model/keypoint_classifier\\keypoint_classifier_new.h5\n",
      "74/74 [==============================] - 0s 2ms/step - loss: 1.8025 - accuracy: 0.4047 - val_loss: 1.2254 - val_accuracy: 0.7798\n",
      "Epoch 14/500\n",
      "39/74 [==============>...............] - ETA: 0s - loss: 1.7649 - accuracy: 0.4101\n",
      "Epoch 00014: saving model to model/keypoint_classifier\\keypoint_classifier_new.h5\n",
      "74/74 [==============================] - 0s 2ms/step - loss: 1.7780 - accuracy: 0.4059 - val_loss: 1.1877 - val_accuracy: 0.8044\n",
      "Epoch 15/500\n",
      "39/74 [==============>...............] - ETA: 0s - loss: 1.7502 - accuracy: 0.4287\n",
      "Epoch 00015: saving model to model/keypoint_classifier\\keypoint_classifier_new.h5\n",
      "74/74 [==============================] - 0s 2ms/step - loss: 1.7482 - accuracy: 0.4273 - val_loss: 1.1435 - val_accuracy: 0.7993\n",
      "Epoch 16/500\n",
      "36/74 [=============>................] - ETA: 0s - loss: 1.7314 - accuracy: 0.4325\n",
      "Epoch 00016: saving model to model/keypoint_classifier\\keypoint_classifier_new.h5\n",
      "74/74 [==============================] - 0s 2ms/step - loss: 1.7195 - accuracy: 0.4342 - val_loss: 1.1106 - val_accuracy: 0.7942\n",
      "Epoch 17/500\n",
      "40/74 [===============>..............] - ETA: 0s - loss: 1.6998 - accuracy: 0.4385\n",
      "Epoch 00017: saving model to model/keypoint_classifier\\keypoint_classifier_new.h5\n",
      "74/74 [==============================] - 0s 2ms/step - loss: 1.6979 - accuracy: 0.4347 - val_loss: 1.0816 - val_accuracy: 0.7917\n",
      "Epoch 18/500\n",
      "38/74 [==============>...............] - ETA: 0s - loss: 1.6761 - accuracy: 0.4359\n",
      "Epoch 00018: saving model to model/keypoint_classifier\\keypoint_classifier_new.h5\n",
      "74/74 [==============================] - 0s 2ms/step - loss: 1.6633 - accuracy: 0.4432 - val_loss: 1.0317 - val_accuracy: 0.8010\n",
      "Epoch 19/500\n",
      "40/74 [===============>..............] - ETA: 0s - loss: 1.6572 - accuracy: 0.4555\n",
      "Epoch 00019: saving model to model/keypoint_classifier\\keypoint_classifier_new.h5\n",
      "74/74 [==============================] - 0s 2ms/step - loss: 1.6606 - accuracy: 0.4511 - val_loss: 1.0161 - val_accuracy: 0.8184\n",
      "Epoch 20/500\n",
      "39/74 [==============>...............] - ETA: 0s - loss: 1.6473 - accuracy: 0.4537\n",
      "Epoch 00020: saving model to model/keypoint_classifier\\keypoint_classifier_new.h5\n",
      "74/74 [==============================] - 0s 2ms/step - loss: 1.6517 - accuracy: 0.4464 - val_loss: 0.9996 - val_accuracy: 0.8425\n",
      "Epoch 21/500\n",
      "40/74 [===============>..............] - ETA: 0s - loss: 1.6279 - accuracy: 0.4512\n",
      "Epoch 00021: saving model to model/keypoint_classifier\\keypoint_classifier_new.h5\n",
      "74/74 [==============================] - 0s 2ms/step - loss: 1.6437 - accuracy: 0.4454 - val_loss: 0.9917 - val_accuracy: 0.8264\n",
      "Epoch 22/500\n",
      "39/74 [==============>...............] - ETA: 0s - loss: 1.6264 - accuracy: 0.4557\n",
      "Epoch 00022: saving model to model/keypoint_classifier\\keypoint_classifier_new.h5\n",
      "74/74 [==============================] - 0s 2ms/step - loss: 1.6150 - accuracy: 0.4591 - val_loss: 0.9553 - val_accuracy: 0.8408\n",
      "Epoch 23/500\n",
      "69/74 [==========================>...] - ETA: 0s - loss: 1.6074 - accuracy: 0.4616\n",
      "Epoch 00023: saving model to model/keypoint_classifier\\keypoint_classifier_new.h5\n",
      "74/74 [==============================] - 0s 2ms/step - loss: 1.6060 - accuracy: 0.4609 - val_loss: 0.9503 - val_accuracy: 0.8302\n",
      "Epoch 24/500\n",
      "40/74 [===============>..............] - ETA: 0s - loss: 1.6015 - accuracy: 0.4656\n",
      "Epoch 00024: saving model to model/keypoint_classifier\\keypoint_classifier_new.h5\n",
      "74/74 [==============================] - 0s 2ms/step - loss: 1.5912 - accuracy: 0.4675 - val_loss: 0.9341 - val_accuracy: 0.8510\n",
      "Epoch 25/500\n",
      "39/74 [==============>...............] - ETA: 0s - loss: 1.6040 - accuracy: 0.4635\n",
      "Epoch 00025: saving model to model/keypoint_classifier\\keypoint_classifier_new.h5\n",
      "74/74 [==============================] - 0s 2ms/step - loss: 1.5920 - accuracy: 0.4652 - val_loss: 0.9264 - val_accuracy: 0.8400\n",
      "Epoch 26/500\n",
      "36/74 [=============>................] - ETA: 0s - loss: 1.5577 - accuracy: 0.4757\n",
      "Epoch 00026: saving model to model/keypoint_classifier\\keypoint_classifier_new.h5\n",
      "74/74 [==============================] - 0s 2ms/step - loss: 1.5624 - accuracy: 0.4772 - val_loss: 0.9098 - val_accuracy: 0.8484\n",
      "Epoch 27/500\n",
      "37/74 [==============>...............] - ETA: 0s - loss: 1.5479 - accuracy: 0.4835\n",
      "Epoch 00027: saving model to model/keypoint_classifier\\keypoint_classifier_new.h5\n",
      "74/74 [==============================] - 0s 2ms/step - loss: 1.5484 - accuracy: 0.4822 - val_loss: 0.8841 - val_accuracy: 0.8853\n",
      "Epoch 28/500\n",
      "39/74 [==============>...............] - ETA: 0s - loss: 1.5792 - accuracy: 0.4629\n",
      "Epoch 00028: saving model to model/keypoint_classifier\\keypoint_classifier_new.h5\n",
      "74/74 [==============================] - 0s 2ms/step - loss: 1.5567 - accuracy: 0.4745 - val_loss: 0.8815 - val_accuracy: 0.8556\n",
      "Epoch 29/500\n",
      "58/74 [======================>.......] - ETA: 0s - loss: 1.5547 - accuracy: 0.4798\n",
      "Epoch 00029: saving model to model/keypoint_classifier\\keypoint_classifier_new.h5\n",
      "74/74 [==============================] - 0s 3ms/step - loss: 1.5572 - accuracy: 0.4786 - val_loss: 0.8877 - val_accuracy: 0.8607\n",
      "Epoch 30/500\n",
      "39/74 [==============>...............] - ETA: 0s - loss: 1.5202 - accuracy: 0.4958\n",
      "Epoch 00030: saving model to model/keypoint_classifier\\keypoint_classifier_new.h5\n",
      "74/74 [==============================] - 0s 2ms/step - loss: 1.5234 - accuracy: 0.4895 - val_loss: 0.8730 - val_accuracy: 0.8704\n",
      "Epoch 31/500\n",
      "41/74 [===============>..............] - ETA: 0s - loss: 1.5341 - accuracy: 0.4739\n",
      "Epoch 00031: saving model to model/keypoint_classifier\\keypoint_classifier_new.h5\n",
      "74/74 [==============================] - 0s 2ms/step - loss: 1.5282 - accuracy: 0.4821 - val_loss: 0.8569 - val_accuracy: 0.8637\n",
      "Epoch 32/500\n",
      "39/74 [==============>...............] - ETA: 0s - loss: 1.5494 - accuracy: 0.4858\n",
      "Epoch 00032: saving model to model/keypoint_classifier\\keypoint_classifier_new.h5\n",
      "74/74 [==============================] - 0s 2ms/step - loss: 1.5230 - accuracy: 0.4919 - val_loss: 0.8512 - val_accuracy: 0.8887\n",
      "Epoch 33/500\n",
      "40/74 [===============>..............] - ETA: 0s - loss: 1.5030 - accuracy: 0.4963\n",
      "Epoch 00033: saving model to model/keypoint_classifier\\keypoint_classifier_new.h5\n",
      "74/74 [==============================] - 0s 2ms/step - loss: 1.5145 - accuracy: 0.4912 - val_loss: 0.8487 - val_accuracy: 0.8417\n",
      "Epoch 34/500\n",
      "39/74 [==============>...............] - ETA: 0s - loss: 1.5060 - accuracy: 0.4964\n",
      "Epoch 00034: saving model to model/keypoint_classifier\\keypoint_classifier_new.h5\n",
      "74/74 [==============================] - 0s 4ms/step - loss: 1.4943 - accuracy: 0.4972 - val_loss: 0.8277 - val_accuracy: 0.8616\n",
      "Epoch 35/500\n",
      "36/74 [=============>................] - ETA: 0s - loss: 1.4999 - accuracy: 0.4987\n",
      "Epoch 00035: saving model to model/keypoint_classifier\\keypoint_classifier_new.h5\n",
      "74/74 [==============================] - 0s 2ms/step - loss: 1.5040 - accuracy: 0.4968 - val_loss: 0.8163 - val_accuracy: 0.8611\n",
      "Epoch 36/500\n",
      "40/74 [===============>..............] - ETA: 0s - loss: 1.4600 - accuracy: 0.5213\n",
      "Epoch 00036: saving model to model/keypoint_classifier\\keypoint_classifier_new.h5\n",
      "74/74 [==============================] - 0s 2ms/step - loss: 1.4782 - accuracy: 0.5095 - val_loss: 0.8061 - val_accuracy: 0.8628\n",
      "Epoch 37/500\n",
      "40/74 [===============>..............] - ETA: 0s - loss: 1.4634 - accuracy: 0.5160\n",
      "Epoch 00037: saving model to model/keypoint_classifier\\keypoint_classifier_new.h5\n",
      "74/74 [==============================] - 0s 2ms/step - loss: 1.4797 - accuracy: 0.5104 - val_loss: 0.7987 - val_accuracy: 0.8781\n",
      "Epoch 38/500\n",
      "38/74 [==============>...............] - ETA: 0s - loss: 1.4718 - accuracy: 0.5090\n",
      "Epoch 00038: saving model to model/keypoint_classifier\\keypoint_classifier_new.h5\n",
      "74/74 [==============================] - 0s 2ms/step - loss: 1.4768 - accuracy: 0.5079 - val_loss: 0.7975 - val_accuracy: 0.8666\n",
      "Epoch 39/500\n",
      "39/74 [==============>...............] - ETA: 0s - loss: 1.4719 - accuracy: 0.5094\n",
      "Epoch 00039: saving model to model/keypoint_classifier\\keypoint_classifier_new.h5\n",
      "74/74 [==============================] - 0s 2ms/step - loss: 1.4761 - accuracy: 0.5065 - val_loss: 0.7995 - val_accuracy: 0.8357\n",
      "Epoch 40/500\n",
      "38/74 [==============>...............] - ETA: 0s - loss: 1.4397 - accuracy: 0.5179\n",
      "Epoch 00040: saving model to model/keypoint_classifier\\keypoint_classifier_new.h5\n",
      "74/74 [==============================] - 0s 2ms/step - loss: 1.4481 - accuracy: 0.5161 - val_loss: 0.7854 - val_accuracy: 0.8522\n",
      "Epoch 41/500\n",
      "71/74 [===========================>..] - ETA: 0s - loss: 1.4318 - accuracy: 0.5231\n",
      "Epoch 00041: saving model to model/keypoint_classifier\\keypoint_classifier_new.h5\n",
      "74/74 [==============================] - 0s 2ms/step - loss: 1.4308 - accuracy: 0.5229 - val_loss: 0.7544 - val_accuracy: 0.8810\n",
      "Epoch 42/500\n",
      "39/74 [==============>...............] - ETA: 0s - loss: 1.4309 - accuracy: 0.5194\n",
      "Epoch 00042: saving model to model/keypoint_classifier\\keypoint_classifier_new.h5\n",
      "74/74 [==============================] - 0s 2ms/step - loss: 1.4324 - accuracy: 0.5235 - val_loss: 0.7760 - val_accuracy: 0.8522\n",
      "Epoch 43/500\n",
      "36/74 [=============>................] - ETA: 0s - loss: 1.4360 - accuracy: 0.5282\n",
      "Epoch 00043: saving model to model/keypoint_classifier\\keypoint_classifier_new.h5\n",
      "74/74 [==============================] - 0s 2ms/step - loss: 1.4316 - accuracy: 0.5278 - val_loss: 0.7611 - val_accuracy: 0.8434\n",
      "Epoch 44/500\n",
      "39/74 [==============>...............] - ETA: 0s - loss: 1.4258 - accuracy: 0.5180\n",
      "Epoch 00044: saving model to model/keypoint_classifier\\keypoint_classifier_new.h5\n",
      "74/74 [==============================] - 0s 2ms/step - loss: 1.4183 - accuracy: 0.5228 - val_loss: 0.7557 - val_accuracy: 0.8569\n",
      "Epoch 45/500\n",
      "37/74 [==============>...............] - ETA: 0s - loss: 1.4153 - accuracy: 0.5289\n",
      "Epoch 00045: saving model to model/keypoint_classifier\\keypoint_classifier_new.h5\n",
      "74/74 [==============================] - 0s 2ms/step - loss: 1.4235 - accuracy: 0.5260 - val_loss: 0.7551 - val_accuracy: 0.8497\n",
      "Epoch 46/500\n",
      "37/74 [==============>...............] - ETA: 0s - loss: 1.3998 - accuracy: 0.5372\n",
      "Epoch 00046: saving model to model/keypoint_classifier\\keypoint_classifier_new.h5\n",
      "74/74 [==============================] - 0s 2ms/step - loss: 1.3957 - accuracy: 0.5368 - val_loss: 0.7237 - val_accuracy: 0.8823\n",
      "Epoch 47/500\n",
      "72/74 [============================>.] - ETA: 0s - loss: 1.4191 - accuracy: 0.5320\n",
      "Epoch 00047: saving model to model/keypoint_classifier\\keypoint_classifier_new.h5\n",
      "74/74 [==============================] - 0s 2ms/step - loss: 1.4158 - accuracy: 0.5326 - val_loss: 0.7283 - val_accuracy: 0.8747\n",
      "Epoch 48/500\n",
      "37/74 [==============>...............] - ETA: 0s - loss: 1.3791 - accuracy: 0.5380\n",
      "Epoch 00048: saving model to model/keypoint_classifier\\keypoint_classifier_new.h5\n",
      "74/74 [==============================] - 0s 2ms/step - loss: 1.3833 - accuracy: 0.5379 - val_loss: 0.7162 - val_accuracy: 0.8768\n",
      "Epoch 49/500\n",
      "39/74 [==============>...............] - ETA: 0s - loss: 1.3797 - accuracy: 0.5363\n",
      "Epoch 00049: saving model to model/keypoint_classifier\\keypoint_classifier_new.h5\n",
      "74/74 [==============================] - 0s 2ms/step - loss: 1.3954 - accuracy: 0.5349 - val_loss: 0.7240 - val_accuracy: 0.8781\n",
      "Epoch 50/500\n",
      "74/74 [==============================] - ETA: 0s - loss: 1.3762 - accuracy: 0.5399\n",
      "Epoch 00050: saving model to model/keypoint_classifier\\keypoint_classifier_new.h5\n",
      "74/74 [==============================] - 0s 2ms/step - loss: 1.3762 - accuracy: 0.5399 - val_loss: 0.6964 - val_accuracy: 0.8802\n",
      "Epoch 51/500\n",
      "70/74 [===========================>..] - ETA: 0s - loss: 1.3812 - accuracy: 0.5434\n",
      "Epoch 00051: saving model to model/keypoint_classifier\\keypoint_classifier_new.h5\n",
      "74/74 [==============================] - 0s 2ms/step - loss: 1.3816 - accuracy: 0.5439 - val_loss: 0.7062 - val_accuracy: 0.8666\n",
      "Epoch 52/500\n",
      "38/74 [==============>...............] - ETA: 0s - loss: 1.3947 - accuracy: 0.5331\n",
      "Epoch 00052: saving model to model/keypoint_classifier\\keypoint_classifier_new.h5\n",
      "74/74 [==============================] - 0s 2ms/step - loss: 1.3902 - accuracy: 0.5319 - val_loss: 0.6931 - val_accuracy: 0.8861\n",
      "Epoch 53/500\n",
      "74/74 [==============================] - ETA: 0s - loss: 1.3792 - accuracy: 0.5440\n",
      "Epoch 00053: saving model to model/keypoint_classifier\\keypoint_classifier_new.h5\n",
      "74/74 [==============================] - 0s 2ms/step - loss: 1.3792 - accuracy: 0.5440 - val_loss: 0.6883 - val_accuracy: 0.8840\n",
      "Epoch 54/500\n",
      "66/74 [=========================>....] - ETA: 0s - loss: 1.3853 - accuracy: 0.5426\n",
      "Epoch 00054: saving model to model/keypoint_classifier\\keypoint_classifier_new.h5\n",
      "74/74 [==============================] - 0s 2ms/step - loss: 1.3806 - accuracy: 0.5437 - val_loss: 0.7041 - val_accuracy: 0.8709\n",
      "Epoch 55/500\n",
      "71/74 [===========================>..] - ETA: 0s - loss: 1.3591 - accuracy: 0.5437\n",
      "Epoch 00055: saving model to model/keypoint_classifier\\keypoint_classifier_new.h5\n",
      "74/74 [==============================] - 0s 2ms/step - loss: 1.3597 - accuracy: 0.5436 - val_loss: 0.6801 - val_accuracy: 0.8903\n",
      "Epoch 56/500\n",
      "36/74 [=============>................] - ETA: 0s - loss: 1.3258 - accuracy: 0.5610\n",
      "Epoch 00056: saving model to model/keypoint_classifier\\keypoint_classifier_new.h5\n",
      "74/74 [==============================] - 0s 2ms/step - loss: 1.3476 - accuracy: 0.5495 - val_loss: 0.6845 - val_accuracy: 0.8819\n",
      "Epoch 57/500\n",
      "38/74 [==============>...............] - ETA: 0s - loss: 1.3679 - accuracy: 0.5374\n",
      "Epoch 00057: saving model to model/keypoint_classifier\\keypoint_classifier_new.h5\n",
      "74/74 [==============================] - 0s 2ms/step - loss: 1.3578 - accuracy: 0.5386 - val_loss: 0.6776 - val_accuracy: 0.8929\n",
      "Epoch 58/500\n",
      "38/74 [==============>...............] - ETA: 0s - loss: 1.3431 - accuracy: 0.5535\n",
      "Epoch 00058: saving model to model/keypoint_classifier\\keypoint_classifier_new.h5\n",
      "74/74 [==============================] - 0s 2ms/step - loss: 1.3577 - accuracy: 0.5487 - val_loss: 0.6784 - val_accuracy: 0.8827\n",
      "Epoch 59/500\n",
      "40/74 [===============>..............] - ETA: 0s - loss: 1.3365 - accuracy: 0.5627\n",
      "Epoch 00059: saving model to model/keypoint_classifier\\keypoint_classifier_new.h5\n",
      "74/74 [==============================] - 0s 2ms/step - loss: 1.3358 - accuracy: 0.5623 - val_loss: 0.6584 - val_accuracy: 0.9162\n",
      "Epoch 60/500\n",
      "74/74 [==============================] - ETA: 0s - loss: 1.3462 - accuracy: 0.5478\n",
      "Epoch 00060: saving model to model/keypoint_classifier\\keypoint_classifier_new.h5\n",
      "74/74 [==============================] - 0s 2ms/step - loss: 1.3462 - accuracy: 0.5478 - val_loss: 0.6525 - val_accuracy: 0.9009\n",
      "Epoch 61/500\n",
      "34/74 [============>.................] - ETA: 0s - loss: 1.3066 - accuracy: 0.5579\n",
      "Epoch 00061: saving model to model/keypoint_classifier\\keypoint_classifier_new.h5\n",
      "74/74 [==============================] - 0s 2ms/step - loss: 1.3242 - accuracy: 0.5528 - val_loss: 0.6537 - val_accuracy: 0.9132\n",
      "Epoch 62/500\n",
      "38/74 [==============>...............] - ETA: 0s - loss: 1.3347 - accuracy: 0.5592\n",
      "Epoch 00062: saving model to model/keypoint_classifier\\keypoint_classifier_new.h5\n",
      "74/74 [==============================] - 0s 2ms/step - loss: 1.3344 - accuracy: 0.5567 - val_loss: 0.6612 - val_accuracy: 0.8980\n",
      "Epoch 63/500\n",
      "37/74 [==============>...............] - ETA: 0s - loss: 1.3166 - accuracy: 0.5595\n",
      "Epoch 00063: saving model to model/keypoint_classifier\\keypoint_classifier_new.h5\n",
      "74/74 [==============================] - 0s 2ms/step - loss: 1.3127 - accuracy: 0.5598 - val_loss: 0.6423 - val_accuracy: 0.9280\n",
      "Epoch 64/500\n",
      "39/74 [==============>...............] - ETA: 0s - loss: 1.3373 - accuracy: 0.5545\n",
      "Epoch 00064: saving model to model/keypoint_classifier\\keypoint_classifier_new.h5\n",
      "74/74 [==============================] - 0s 2ms/step - loss: 1.3345 - accuracy: 0.5527 - val_loss: 0.6381 - val_accuracy: 0.9047\n",
      "Epoch 65/500\n",
      "38/74 [==============>...............] - ETA: 0s - loss: 1.3314 - accuracy: 0.5600\n",
      "Epoch 00065: saving model to model/keypoint_classifier\\keypoint_classifier_new.h5\n",
      "74/74 [==============================] - 0s 2ms/step - loss: 1.3222 - accuracy: 0.5626 - val_loss: 0.6334 - val_accuracy: 0.9153\n",
      "Epoch 66/500\n",
      "39/74 [==============>...............] - ETA: 0s - loss: 1.3046 - accuracy: 0.5621\n",
      "Epoch 00066: saving model to model/keypoint_classifier\\keypoint_classifier_new.h5\n",
      "74/74 [==============================] - 0s 2ms/step - loss: 1.3237 - accuracy: 0.5598 - val_loss: 0.6422 - val_accuracy: 0.9052\n",
      "Epoch 67/500\n",
      "71/74 [===========================>..] - ETA: 0s - loss: 1.3102 - accuracy: 0.5650\n",
      "Epoch 00067: saving model to model/keypoint_classifier\\keypoint_classifier_new.h5\n",
      "74/74 [==============================] - 0s 2ms/step - loss: 1.3162 - accuracy: 0.5633 - val_loss: 0.6326 - val_accuracy: 0.8984\n",
      "Epoch 68/500\n",
      "38/74 [==============>...............] - ETA: 0s - loss: 1.3029 - accuracy: 0.5588\n",
      "Epoch 00068: saving model to model/keypoint_classifier\\keypoint_classifier_new.h5\n",
      "74/74 [==============================] - 0s 2ms/step - loss: 1.2962 - accuracy: 0.5653 - val_loss: 0.6361 - val_accuracy: 0.9183\n",
      "Epoch 69/500\n",
      "37/74 [==============>...............] - ETA: 0s - loss: 1.3044 - accuracy: 0.5648\n",
      "Epoch 00069: saving model to model/keypoint_classifier\\keypoint_classifier_new.h5\n",
      "74/74 [==============================] - 0s 2ms/step - loss: 1.2909 - accuracy: 0.5660 - val_loss: 0.6251 - val_accuracy: 0.8959\n",
      "Epoch 70/500\n",
      "38/74 [==============>...............] - ETA: 0s - loss: 1.2875 - accuracy: 0.5738\n",
      "Epoch 00070: saving model to model/keypoint_classifier\\keypoint_classifier_new.h5\n",
      "74/74 [==============================] - 0s 2ms/step - loss: 1.2822 - accuracy: 0.5774 - val_loss: 0.6288 - val_accuracy: 0.8963\n",
      "Epoch 71/500\n",
      "37/74 [==============>...............] - ETA: 0s - loss: 1.2897 - accuracy: 0.5646\n",
      "Epoch 00071: saving model to model/keypoint_classifier\\keypoint_classifier_new.h5\n",
      "74/74 [==============================] - 0s 3ms/step - loss: 1.3061 - accuracy: 0.5619 - val_loss: 0.6236 - val_accuracy: 0.9145\n",
      "Epoch 72/500\n",
      "68/74 [==========================>...] - ETA: 0s - loss: 1.2915 - accuracy: 0.5668\n",
      "Epoch 00072: saving model to model/keypoint_classifier\\keypoint_classifier_new.h5\n",
      "74/74 [==============================] - 0s 2ms/step - loss: 1.2963 - accuracy: 0.5647 - val_loss: 0.6137 - val_accuracy: 0.9115\n",
      "Epoch 73/500\n",
      "38/74 [==============>...............] - ETA: 0s - loss: 1.2972 - accuracy: 0.5683\n",
      "Epoch 00073: saving model to model/keypoint_classifier\\keypoint_classifier_new.h5\n",
      "74/74 [==============================] - 0s 2ms/step - loss: 1.3026 - accuracy: 0.5670 - val_loss: 0.6212 - val_accuracy: 0.9124\n",
      "Epoch 74/500\n",
      "65/74 [=========================>....] - ETA: 0s - loss: 1.2883 - accuracy: 0.5690\n",
      "Epoch 00074: saving model to model/keypoint_classifier\\keypoint_classifier_new.h5\n",
      "74/74 [==============================] - 0s 2ms/step - loss: 1.2947 - accuracy: 0.5675 - val_loss: 0.6416 - val_accuracy: 0.8878\n",
      "Epoch 75/500\n",
      "50/74 [===================>..........] - ETA: 0s - loss: 1.2926 - accuracy: 0.5663\n",
      "Epoch 00075: saving model to model/keypoint_classifier\\keypoint_classifier_new.h5\n",
      "74/74 [==============================] - 0s 3ms/step - loss: 1.2893 - accuracy: 0.5705 - val_loss: 0.6168 - val_accuracy: 0.9039\n",
      "Epoch 76/500\n",
      "68/74 [==========================>...] - ETA: 0s - loss: 1.3030 - accuracy: 0.5664\n",
      "Epoch 00076: saving model to model/keypoint_classifier\\keypoint_classifier_new.h5\n",
      "74/74 [==============================] - 0s 3ms/step - loss: 1.3013 - accuracy: 0.5668 - val_loss: 0.6188 - val_accuracy: 0.9077\n",
      "Epoch 77/500\n",
      "43/74 [================>.............] - ETA: 0s - loss: 1.2620 - accuracy: 0.5810\n",
      "Epoch 00077: saving model to model/keypoint_classifier\\keypoint_classifier_new.h5\n",
      "74/74 [==============================] - 0s 2ms/step - loss: 1.2806 - accuracy: 0.5764 - val_loss: 0.6093 - val_accuracy: 0.9276\n",
      "Epoch 78/500\n",
      "37/74 [==============>...............] - ETA: 0s - loss: 1.2498 - accuracy: 0.5777\n",
      "Epoch 00078: saving model to model/keypoint_classifier\\keypoint_classifier_new.h5\n",
      "74/74 [==============================] - 0s 2ms/step - loss: 1.2572 - accuracy: 0.5794 - val_loss: 0.5996 - val_accuracy: 0.8925\n",
      "Epoch 79/500\n",
      "74/74 [==============================] - ETA: 0s - loss: 1.2677 - accuracy: 0.5824\n",
      "Epoch 00079: saving model to model/keypoint_classifier\\keypoint_classifier_new.h5\n",
      "74/74 [==============================] - 0s 2ms/step - loss: 1.2677 - accuracy: 0.5824 - val_loss: 0.5987 - val_accuracy: 0.9077\n",
      "Epoch 80/500\n",
      "37/74 [==============>...............] - ETA: 0s - loss: 1.2863 - accuracy: 0.5724\n",
      "Epoch 00080: saving model to model/keypoint_classifier\\keypoint_classifier_new.h5\n",
      "74/74 [==============================] - 0s 2ms/step - loss: 1.2755 - accuracy: 0.5720 - val_loss: 0.6012 - val_accuracy: 0.9077\n",
      "Epoch 81/500\n",
      "38/74 [==============>...............] - ETA: 0s - loss: 1.2712 - accuracy: 0.5757\n",
      "Epoch 00081: saving model to model/keypoint_classifier\\keypoint_classifier_new.h5\n",
      "74/74 [==============================] - 0s 2ms/step - loss: 1.2635 - accuracy: 0.5784 - val_loss: 0.5980 - val_accuracy: 0.9086\n",
      "Epoch 82/500\n",
      "39/74 [==============>...............] - ETA: 0s - loss: 1.2886 - accuracy: 0.5753\n",
      "Epoch 00082: saving model to model/keypoint_classifier\\keypoint_classifier_new.h5\n",
      "74/74 [==============================] - 0s 2ms/step - loss: 1.2638 - accuracy: 0.5784 - val_loss: 0.5804 - val_accuracy: 0.9183\n",
      "Epoch 83/500\n",
      "38/74 [==============>...............] - ETA: 0s - loss: 1.2755 - accuracy: 0.5648\n",
      "Epoch 00083: saving model to model/keypoint_classifier\\keypoint_classifier_new.h5\n",
      "74/74 [==============================] - 0s 2ms/step - loss: 1.2691 - accuracy: 0.5684 - val_loss: 0.6171 - val_accuracy: 0.8912\n",
      "Epoch 84/500\n",
      "72/74 [============================>.] - ETA: 0s - loss: 1.2824 - accuracy: 0.5774\n",
      "Epoch 00084: saving model to model/keypoint_classifier\\keypoint_classifier_new.h5\n",
      "74/74 [==============================] - 0s 3ms/step - loss: 1.2814 - accuracy: 0.5792 - val_loss: 0.6094 - val_accuracy: 0.8933\n",
      "Epoch 85/500\n",
      "40/74 [===============>..............] - ETA: 0s - loss: 1.2733 - accuracy: 0.5734\n",
      "Epoch 00085: saving model to model/keypoint_classifier\\keypoint_classifier_new.h5\n",
      "74/74 [==============================] - 0s 2ms/step - loss: 1.2796 - accuracy: 0.5689 - val_loss: 0.6056 - val_accuracy: 0.9213\n",
      "Epoch 86/500\n",
      "39/74 [==============>...............] - ETA: 0s - loss: 1.2800 - accuracy: 0.5717\n",
      "Epoch 00086: saving model to model/keypoint_classifier\\keypoint_classifier_new.h5\n",
      "74/74 [==============================] - 0s 2ms/step - loss: 1.2650 - accuracy: 0.5779 - val_loss: 0.5946 - val_accuracy: 0.9073\n",
      "Epoch 87/500\n",
      "73/74 [============================>.] - ETA: 0s - loss: 1.2674 - accuracy: 0.5774\n",
      "Epoch 00087: saving model to model/keypoint_classifier\\keypoint_classifier_new.h5\n",
      "74/74 [==============================] - 0s 2ms/step - loss: 1.2666 - accuracy: 0.5774 - val_loss: 0.5933 - val_accuracy: 0.9213\n",
      "Epoch 88/500\n",
      "73/74 [============================>.] - ETA: 0s - loss: 1.2599 - accuracy: 0.5778\n",
      "Epoch 00088: saving model to model/keypoint_classifier\\keypoint_classifier_new.h5\n",
      "74/74 [==============================] - 0s 2ms/step - loss: 1.2589 - accuracy: 0.5781 - val_loss: 0.5985 - val_accuracy: 0.9086\n",
      "Epoch 89/500\n",
      "74/74 [==============================] - ETA: 0s - loss: 1.2640 - accuracy: 0.5700\n",
      "Epoch 00089: saving model to model/keypoint_classifier\\keypoint_classifier_new.h5\n",
      "74/74 [==============================] - 0s 2ms/step - loss: 1.2640 - accuracy: 0.5700 - val_loss: 0.5776 - val_accuracy: 0.9251\n",
      "Epoch 90/500\n",
      "72/74 [============================>.] - ETA: 0s - loss: 1.2702 - accuracy: 0.5692\n",
      "Epoch 00090: saving model to model/keypoint_classifier\\keypoint_classifier_new.h5\n",
      "74/74 [==============================] - 0s 2ms/step - loss: 1.2723 - accuracy: 0.5686 - val_loss: 0.5790 - val_accuracy: 0.9187\n",
      "Epoch 91/500\n",
      "73/74 [============================>.] - ETA: 0s - loss: 1.2521 - accuracy: 0.5821\n",
      "Epoch 00091: saving model to model/keypoint_classifier\\keypoint_classifier_new.h5\n",
      "74/74 [==============================] - 0s 2ms/step - loss: 1.2519 - accuracy: 0.5819 - val_loss: 0.6092 - val_accuracy: 0.8874\n",
      "Epoch 92/500\n",
      "38/74 [==============>...............] - ETA: 0s - loss: 1.2342 - accuracy: 0.5892\n",
      "Epoch 00092: saving model to model/keypoint_classifier\\keypoint_classifier_new.h5\n",
      "74/74 [==============================] - 0s 2ms/step - loss: 1.2267 - accuracy: 0.5913 - val_loss: 0.5981 - val_accuracy: 0.8963\n",
      "Epoch 93/500\n",
      "37/74 [==============>...............] - ETA: 0s - loss: 1.2360 - accuracy: 0.5724\n",
      "Epoch 00093: saving model to model/keypoint_classifier\\keypoint_classifier_new.h5\n",
      "74/74 [==============================] - 0s 2ms/step - loss: 1.2352 - accuracy: 0.5805 - val_loss: 0.5638 - val_accuracy: 0.9208\n",
      "Epoch 94/500\n",
      "39/74 [==============>...............] - ETA: 0s - loss: 1.2313 - accuracy: 0.5841\n",
      "Epoch 00094: saving model to model/keypoint_classifier\\keypoint_classifier_new.h5\n",
      "74/74 [==============================] - 0s 2ms/step - loss: 1.2368 - accuracy: 0.5828 - val_loss: 0.5869 - val_accuracy: 0.9014\n",
      "Epoch 95/500\n",
      "37/74 [==============>...............] - ETA: 0s - loss: 1.2768 - accuracy: 0.5807\n",
      "Epoch 00095: saving model to model/keypoint_classifier\\keypoint_classifier_new.h5\n",
      "74/74 [==============================] - 0s 2ms/step - loss: 1.2547 - accuracy: 0.5820 - val_loss: 0.5858 - val_accuracy: 0.8997\n",
      "Epoch 96/500\n",
      "36/74 [=============>................] - ETA: 0s - loss: 1.2536 - accuracy: 0.5833\n",
      "Epoch 00096: saving model to model/keypoint_classifier\\keypoint_classifier_new.h5\n",
      "74/74 [==============================] - 0s 2ms/step - loss: 1.2439 - accuracy: 0.5873 - val_loss: 0.5668 - val_accuracy: 0.9132\n",
      "Epoch 97/500\n",
      "39/74 [==============>...............] - ETA: 0s - loss: 1.2457 - accuracy: 0.5821\n",
      "Epoch 00097: saving model to model/keypoint_classifier\\keypoint_classifier_new.h5\n",
      "74/74 [==============================] - 0s 2ms/step - loss: 1.2375 - accuracy: 0.5866 - val_loss: 0.5788 - val_accuracy: 0.9094\n",
      "Epoch 98/500\n",
      "74/74 [==============================] - ETA: 0s - loss: 1.2262 - accuracy: 0.5915\n",
      "Epoch 00098: saving model to model/keypoint_classifier\\keypoint_classifier_new.h5\n",
      "74/74 [==============================] - 0s 3ms/step - loss: 1.2262 - accuracy: 0.5915 - val_loss: 0.5729 - val_accuracy: 0.9217\n",
      "Epoch 99/500\n",
      "39/74 [==============>...............] - ETA: 0s - loss: 1.2368 - accuracy: 0.5823\n",
      "Epoch 00099: saving model to model/keypoint_classifier\\keypoint_classifier_new.h5\n",
      "74/74 [==============================] - 0s 2ms/step - loss: 1.2389 - accuracy: 0.5818 - val_loss: 0.5663 - val_accuracy: 0.9344\n",
      "Epoch 100/500\n",
      "39/74 [==============>...............] - ETA: 0s - loss: 1.2526 - accuracy: 0.5801\n",
      "Epoch 00100: saving model to model/keypoint_classifier\\keypoint_classifier_new.h5\n",
      "74/74 [==============================] - 0s 2ms/step - loss: 1.2433 - accuracy: 0.5833 - val_loss: 0.5759 - val_accuracy: 0.9098\n",
      "Epoch 101/500\n",
      "40/74 [===============>..............] - ETA: 0s - loss: 1.2583 - accuracy: 0.5793\n",
      "Epoch 00101: saving model to model/keypoint_classifier\\keypoint_classifier_new.h5\n",
      "74/74 [==============================] - 0s 2ms/step - loss: 1.2447 - accuracy: 0.5862 - val_loss: 0.5776 - val_accuracy: 0.9179\n",
      "Epoch 102/500\n",
      "38/74 [==============>...............] - ETA: 0s - loss: 1.2427 - accuracy: 0.5861\n",
      "Epoch 00102: saving model to model/keypoint_classifier\\keypoint_classifier_new.h5\n",
      "74/74 [==============================] - 0s 2ms/step - loss: 1.2355 - accuracy: 0.5837 - val_loss: 0.5625 - val_accuracy: 0.9285\n",
      "Epoch 103/500\n",
      "39/74 [==============>...............] - ETA: 0s - loss: 1.1941 - accuracy: 0.5988\n",
      "Epoch 00103: saving model to model/keypoint_classifier\\keypoint_classifier_new.h5\n",
      "74/74 [==============================] - 0s 2ms/step - loss: 1.2100 - accuracy: 0.5924 - val_loss: 0.5583 - val_accuracy: 0.9272\n",
      "Epoch 104/500\n",
      "35/74 [=============>................] - ETA: 0s - loss: 1.2268 - accuracy: 0.5868\n",
      "Epoch 00104: saving model to model/keypoint_classifier\\keypoint_classifier_new.h5\n",
      "74/74 [==============================] - 0s 2ms/step - loss: 1.2177 - accuracy: 0.5916 - val_loss: 0.5832 - val_accuracy: 0.9238\n",
      "Epoch 105/500\n",
      "74/74 [==============================] - ETA: 0s - loss: 1.2244 - accuracy: 0.5896\n",
      "Epoch 00105: saving model to model/keypoint_classifier\\keypoint_classifier_new.h5\n",
      "74/74 [==============================] - 0s 2ms/step - loss: 1.2244 - accuracy: 0.5896 - val_loss: 0.5751 - val_accuracy: 0.9086\n",
      "Epoch 106/500\n",
      "38/74 [==============>...............] - ETA: 0s - loss: 1.2021 - accuracy: 0.6044\n",
      "Epoch 00106: saving model to model/keypoint_classifier\\keypoint_classifier_new.h5\n",
      "74/74 [==============================] - 0s 2ms/step - loss: 1.2142 - accuracy: 0.5995 - val_loss: 0.5861 - val_accuracy: 0.9026\n",
      "Epoch 107/500\n",
      "36/74 [=============>................] - ETA: 0s - loss: 1.2203 - accuracy: 0.5870\n",
      "Epoch 00107: saving model to model/keypoint_classifier\\keypoint_classifier_new.h5\n",
      "74/74 [==============================] - 0s 2ms/step - loss: 1.2172 - accuracy: 0.5871 - val_loss: 0.5625 - val_accuracy: 0.9060\n",
      "Epoch 108/500\n",
      "64/74 [========================>.....] - ETA: 0s - loss: 1.2187 - accuracy: 0.5919\n",
      "Epoch 00108: saving model to model/keypoint_classifier\\keypoint_classifier_new.h5\n",
      "74/74 [==============================] - 0s 2ms/step - loss: 1.2205 - accuracy: 0.5925 - val_loss: 0.5702 - val_accuracy: 0.8967\n",
      "Epoch 109/500\n",
      "37/74 [==============>...............] - ETA: 0s - loss: 1.2181 - accuracy: 0.5880\n",
      "Epoch 00109: saving model to model/keypoint_classifier\\keypoint_classifier_new.h5\n",
      "74/74 [==============================] - 0s 2ms/step - loss: 1.2290 - accuracy: 0.5864 - val_loss: 0.5821 - val_accuracy: 0.9162\n",
      "Epoch 110/500\n",
      "37/74 [==============>...............] - ETA: 0s - loss: 1.2022 - accuracy: 0.6018\n",
      "Epoch 00110: saving model to model/keypoint_classifier\\keypoint_classifier_new.h5\n",
      "74/74 [==============================] - 0s 2ms/step - loss: 1.2144 - accuracy: 0.5956 - val_loss: 0.5752 - val_accuracy: 0.9221\n",
      "Epoch 111/500\n",
      "70/74 [===========================>..] - ETA: 0s - loss: 1.2064 - accuracy: 0.5919\n",
      "Epoch 00111: saving model to model/keypoint_classifier\\keypoint_classifier_new.h5\n",
      "74/74 [==============================] - 0s 2ms/step - loss: 1.2042 - accuracy: 0.5923 - val_loss: 0.5751 - val_accuracy: 0.9128\n",
      "Epoch 112/500\n",
      "38/74 [==============>...............] - ETA: 0s - loss: 1.1968 - accuracy: 0.5970\n",
      "Epoch 00112: saving model to model/keypoint_classifier\\keypoint_classifier_new.h5\n",
      "74/74 [==============================] - 0s 2ms/step - loss: 1.1937 - accuracy: 0.5989 - val_loss: 0.5479 - val_accuracy: 0.9153\n",
      "Epoch 113/500\n",
      "71/74 [===========================>..] - ETA: 0s - loss: 1.2015 - accuracy: 0.5985\n",
      "Epoch 00113: saving model to model/keypoint_classifier\\keypoint_classifier_new.h5\n",
      "74/74 [==============================] - 0s 2ms/step - loss: 1.2026 - accuracy: 0.5977 - val_loss: 0.5616 - val_accuracy: 0.8933\n",
      "Epoch 114/500\n",
      "38/74 [==============>...............] - ETA: 0s - loss: 1.1897 - accuracy: 0.6034\n",
      "Epoch 00114: saving model to model/keypoint_classifier\\keypoint_classifier_new.h5\n",
      "74/74 [==============================] - 0s 2ms/step - loss: 1.1953 - accuracy: 0.5995 - val_loss: 0.5606 - val_accuracy: 0.9005\n",
      "Epoch 115/500\n",
      "66/74 [=========================>....] - ETA: 0s - loss: 1.1893 - accuracy: 0.5969\n",
      "Epoch 00115: saving model to model/keypoint_classifier\\keypoint_classifier_new.h5\n",
      "74/74 [==============================] - 0s 2ms/step - loss: 1.1932 - accuracy: 0.5952 - val_loss: 0.5669 - val_accuracy: 0.9047\n",
      "Epoch 116/500\n",
      "38/74 [==============>...............] - ETA: 0s - loss: 1.1891 - accuracy: 0.5972\n",
      "Epoch 00116: saving model to model/keypoint_classifier\\keypoint_classifier_new.h5\n",
      "74/74 [==============================] - 0s 2ms/step - loss: 1.2051 - accuracy: 0.5930 - val_loss: 0.5956 - val_accuracy: 0.8887\n",
      "Epoch 117/500\n",
      "67/74 [==========================>...] - ETA: 0s - loss: 1.1959 - accuracy: 0.6020\n",
      "Epoch 00117: saving model to model/keypoint_classifier\\keypoint_classifier_new.h5\n",
      "74/74 [==============================] - 0s 2ms/step - loss: 1.1889 - accuracy: 0.6054 - val_loss: 0.5580 - val_accuracy: 0.9043\n",
      "Epoch 118/500\n",
      "40/74 [===============>..............] - ETA: 0s - loss: 1.1983 - accuracy: 0.5900\n",
      "Epoch 00118: saving model to model/keypoint_classifier\\keypoint_classifier_new.h5\n",
      "74/74 [==============================] - 0s 2ms/step - loss: 1.2064 - accuracy: 0.5921 - val_loss: 0.5651 - val_accuracy: 0.9141\n",
      "Epoch 119/500\n",
      "39/74 [==============>...............] - ETA: 0s - loss: 1.1732 - accuracy: 0.6070\n",
      "Epoch 00119: saving model to model/keypoint_classifier\\keypoint_classifier_new.h5\n",
      "74/74 [==============================] - 0s 2ms/step - loss: 1.1911 - accuracy: 0.6042 - val_loss: 0.5745 - val_accuracy: 0.9047\n",
      "Epoch 120/500\n",
      "39/74 [==============>...............] - ETA: 0s - loss: 1.2093 - accuracy: 0.6008\n",
      "Epoch 00120: saving model to model/keypoint_classifier\\keypoint_classifier_new.h5\n",
      "74/74 [==============================] - 0s 3ms/step - loss: 1.2033 - accuracy: 0.6010 - val_loss: 0.5663 - val_accuracy: 0.8992\n",
      "Epoch 121/500\n",
      "38/74 [==============>...............] - ETA: 0s - loss: 1.2202 - accuracy: 0.5851\n",
      "Epoch 00121: saving model to model/keypoint_classifier\\keypoint_classifier_new.h5\n",
      "74/74 [==============================] - 0s 2ms/step - loss: 1.2078 - accuracy: 0.5907 - val_loss: 0.5639 - val_accuracy: 0.9098\n",
      "Epoch 122/500\n",
      "38/74 [==============>...............] - ETA: 0s - loss: 1.1717 - accuracy: 0.6071\n",
      "Epoch 00122: saving model to model/keypoint_classifier\\keypoint_classifier_new.h5\n",
      "74/74 [==============================] - 0s 2ms/step - loss: 1.1962 - accuracy: 0.5971 - val_loss: 0.5642 - val_accuracy: 0.9170\n",
      "Epoch 123/500\n",
      "58/74 [======================>.......] - ETA: 0s - loss: 1.1966 - accuracy: 0.5948\n",
      "Epoch 00123: saving model to model/keypoint_classifier\\keypoint_classifier_new.h5\n",
      "74/74 [==============================] - 0s 2ms/step - loss: 1.1937 - accuracy: 0.5959 - val_loss: 0.5603 - val_accuracy: 0.9056\n",
      "Epoch 124/500\n",
      "38/74 [==============>...............] - ETA: 0s - loss: 1.2033 - accuracy: 0.6003\n",
      "Epoch 00124: saving model to model/keypoint_classifier\\keypoint_classifier_new.h5\n",
      "74/74 [==============================] - 0s 2ms/step - loss: 1.2009 - accuracy: 0.5986 - val_loss: 0.5601 - val_accuracy: 0.9141\n",
      "Epoch 125/500\n",
      "74/74 [==============================] - ETA: 0s - loss: 1.1816 - accuracy: 0.6057\n",
      "Epoch 00125: saving model to model/keypoint_classifier\\keypoint_classifier_new.h5\n",
      "74/74 [==============================] - 0s 2ms/step - loss: 1.1816 - accuracy: 0.6057 - val_loss: 0.5663 - val_accuracy: 0.8971\n",
      "Epoch 126/500\n",
      "39/74 [==============>...............] - ETA: 0s - loss: 1.1710 - accuracy: 0.6080\n",
      "Epoch 00126: saving model to model/keypoint_classifier\\keypoint_classifier_new.h5\n",
      "74/74 [==============================] - 0s 2ms/step - loss: 1.1884 - accuracy: 0.6003 - val_loss: 0.5652 - val_accuracy: 0.8971\n",
      "Epoch 127/500\n",
      "38/74 [==============>...............] - ETA: 0s - loss: 1.1644 - accuracy: 0.6090\n",
      "Epoch 00127: saving model to model/keypoint_classifier\\keypoint_classifier_new.h5\n",
      "74/74 [==============================] - 0s 2ms/step - loss: 1.1814 - accuracy: 0.6003 - val_loss: 0.5740 - val_accuracy: 0.8946\n",
      "Epoch 128/500\n",
      "39/74 [==============>...............] - ETA: 0s - loss: 1.1652 - accuracy: 0.6138\n",
      "Epoch 00128: saving model to model/keypoint_classifier\\keypoint_classifier_new.h5\n",
      "74/74 [==============================] - 0s 2ms/step - loss: 1.1607 - accuracy: 0.6100 - val_loss: 0.5666 - val_accuracy: 0.9009\n",
      "Epoch 129/500\n",
      "72/74 [============================>.] - ETA: 0s - loss: 1.1834 - accuracy: 0.6049\n",
      "Epoch 00129: saving model to model/keypoint_classifier\\keypoint_classifier_new.h5\n",
      "74/74 [==============================] - 0s 2ms/step - loss: 1.1880 - accuracy: 0.6036 - val_loss: 0.5668 - val_accuracy: 0.9001\n",
      "Epoch 130/500\n",
      "71/74 [===========================>..] - ETA: 0s - loss: 1.1826 - accuracy: 0.6055\n",
      "Epoch 00130: saving model to model/keypoint_classifier\\keypoint_classifier_new.h5\n",
      "74/74 [==============================] - 0s 2ms/step - loss: 1.1834 - accuracy: 0.6040 - val_loss: 0.5550 - val_accuracy: 0.9052\n",
      "Epoch 131/500\n",
      "73/74 [============================>.] - ETA: 0s - loss: 1.1785 - accuracy: 0.6052\n",
      "Epoch 00131: saving model to model/keypoint_classifier\\keypoint_classifier_new.h5\n",
      "74/74 [==============================] - 0s 2ms/step - loss: 1.1783 - accuracy: 0.6055 - val_loss: 0.5648 - val_accuracy: 0.9035\n",
      "Epoch 132/500\n",
      "40/74 [===============>..............] - ETA: 0s - loss: 1.1970 - accuracy: 0.6000\n",
      "Epoch 00132: saving model to model/keypoint_classifier\\keypoint_classifier_new.h5\n",
      "74/74 [==============================] - 0s 2ms/step - loss: 1.1839 - accuracy: 0.5985 - val_loss: 0.5635 - val_accuracy: 0.9018\n",
      "Epoch 00132: early stopping\n"
     ]
    }
   ],
   "source": [
    "hist=model.fit(X_train,y_train,epochs=500,batch_size=128,validation_data=(X_test, y_test),callbacks=[cp_callback, es_callback])"
   ]
  },
  {
   "cell_type": "code",
   "execution_count": 315,
   "metadata": {
    "pycharm": {
     "name": "#%%\n"
    }
   },
   "outputs": [
    {
     "name": "stdout",
     "output_type": "stream",
     "text": [
      "CNN Error: 9.82%\n"
     ]
    },
    {
     "data": {
      "text/plain": "<Figure size 432x288 with 1 Axes>",
      "image/png": "[encoded data removed]"
     },
     "metadata": {
      "needs_background": "light"
     },
     "output_type": "display_data"
    },
    {
     "data": {
      "text/plain": "<Figure size 432x288 with 1 Axes>",
      "image/png": "[encoded data removed]"
     },
     "metadata": {
      "needs_background": "light"
     },
     "output_type": "display_data"
    }
   ],
   "source": [
    "import matplotlib.pyplot as plt\n",
    "# val_loss, val_acc = model.evaluate(X_test, y_test, batch_size=128)\n",
    "scores = model.evaluate(X_test,y_test, verbose=0)\n",
    "print(\"CNN Error: %.2f%%\" % (100 - scores[1] * 100))\n",
    "model.save(model_save_path,include_optimizer=False)\n",
    "plt.plot(hist.history['accuracy'])\n",
    "plt.plot(hist.history['val_accuracy'])\n",
    "plt.title('model accuracy')\n",
    "plt.ylabel('accuracy')\n",
    "plt.xlabel('epoch')\n",
    "plt.legend(['train', 'test'], loc='upper left')\n",
    "plt.savefig('accuracy_graph.png')\n",
    "plt.show()\n",
    "# summarize history for loss\n",
    "\n",
    "plt.plot(hist.history['loss'])\n",
    "plt.plot(hist.history['val_loss'])\n",
    "plt.title('model loss')\n",
    "plt.ylabel('loss')\n",
    "plt.xlabel('epoch')\n",
    "plt.legend(['train', 'test'], loc='upper left')\n",
    "plt.savefig('loss_graph.png')\n",
    "plt.show()"
   ]
  },
  {
   "cell_type": "code",
   "execution_count": 316,
   "metadata": {
    "pycharm": {
     "name": "#%%\n"
    }
   },
   "outputs": [
    {
     "name": "stdout",
     "output_type": "stream",
     "text": [
      "WARNING:tensorflow:No training configuration found in the save file, so the model was *not* compiled. Compile it manually.\n"
     ]
    },
    {
     "name": "stderr",
     "output_type": "stream",
     "text": [
      "WARNING:tensorflow:No training configuration found in the save file, so the model was *not* compiled. Compile it manually.\n"
     ]
    },
    {
     "name": "stdout",
     "output_type": "stream",
     "text": [
      "Average prediction time: 0.000043s\n",
      "\n",
      "\n",
      "Classification Report\n",
      "---------------------------\n",
      "              precision    recall  f1-score   support\n",
      "\n",
      "           0       1.00      0.38      0.55       112\n",
      "           1       1.00      1.00      1.00        73\n",
      "           2       0.92      0.98      0.95        99\n",
      "           3       0.98      1.00      0.99        89\n",
      "           4       0.90      0.97      0.93       116\n",
      "           5       0.98      0.98      0.98        91\n",
      "           6       1.00      0.95      0.97       101\n",
      "           7       0.90      1.00      0.95       106\n",
      "           8       1.00      0.98      0.99       105\n",
      "           9       0.96      0.98      0.97       102\n",
      "          10       0.98      1.00      0.99       111\n",
      "          11       0.59      1.00      0.75        88\n",
      "          12       1.00      1.00      1.00        74\n",
      "          13       1.00      0.85      0.92        97\n",
      "          14       0.99      0.90      0.94       100\n",
      "          15       1.00      0.97      0.99       114\n",
      "          16       0.80      0.70      0.75        97\n",
      "          17       1.00      1.00      1.00        97\n",
      "          18       0.76      0.29      0.42       106\n",
      "          19       0.51      0.97      0.67       102\n",
      "          20       1.00      0.99      1.00       103\n",
      "          21       1.00      0.91      0.95        97\n",
      "          22       0.98      1.00      0.99        83\n",
      "          23       0.97      1.00      0.99        99\n",
      "\n",
      "    accuracy                           0.90      2362\n",
      "   macro avg       0.93      0.91      0.90      2362\n",
      "weighted avg       0.92      0.90      0.90      2362\n",
      "\n"
     ]
    },
    {
     "data": {
      "text/plain": "<Figure size 1440x1440 with 2 Axes>",
      "image/png": "[encoded data removed]"
     },
     "metadata": {
      "needs_background": "light"
     },
     "output_type": "display_data"
    }
   ],
   "source": [
    "from keras.models import load_model\n",
    "from sklearn.metrics import classification_report, confusion_matrix\n",
    "import numpy as np\n",
    "import time\n",
    "import matplotlib.pyplot as plt\n",
    "\n",
    "\n",
    "def plot_confusion_matrix(cm,\n",
    "                          target_names,\n",
    "                          title='Confusion matrix',\n",
    "                          cmap=None,\n",
    "                          normalize=True):\n",
    "    import itertools\n",
    "\n",
    "    accuracy = np.trace(cm) / float(np.sum(cm))\n",
    "    misclass = 1 - accuracy\n",
    "\n",
    "    if cmap is None:\n",
    "        cmap = plt.get_cmap('Blues')\n",
    "\n",
    "    plt.figure(figsize=(20, 20))\n",
    "    plt.imshow(cm, interpolation='nearest', cmap=cmap)\n",
    "    plt.title(title)\n",
    "    plt.colorbar()\n",
    "\n",
    "    if target_names is not None:\n",
    "        tick_marks = np.arange(len(target_names))\n",
    "        plt.xticks(tick_marks, target_names, rotation=45)\n",
    "        plt.yticks(tick_marks, target_names)\n",
    "\n",
    "    if normalize:\n",
    "        cm = cm.astype('float') / cm.sum(axis=1)[:, np.newaxis]\n",
    "\n",
    "    thresh = cm.max() / 1.5 if normalize else cm.max() / 2\n",
    "    for i, j in itertools.product(range(cm.shape[0]), range(cm.shape[1])):\n",
    "        if normalize:\n",
    "            plt.text(j, i, \"{:0.4f}\".format(cm[i, j]),\n",
    "                     horizontalalignment=\"center\",\n",
    "                     color=\"white\" if cm[i, j] > thresh else \"black\")\n",
    "        else:\n",
    "            plt.text(j, i, \"{:,}\".format(cm[i, j]),\n",
    "                     horizontalalignment=\"center\",\n",
    "                     color=\"white\" if cm[i, j] > thresh else \"black\")\n",
    "\n",
    "    plt.tight_layout()\n",
    "    plt.ylabel('True label')\n",
    "    plt.xlabel('Predicted label\\naccuracy={:0.4f}; misclass={:0.4f}'.format(accuracy, misclass))\n",
    "    plt.savefig('confusion_matrix.png')\n",
    "\n",
    "\n",
    "model = load_model('model/keypoint_classifier/keypoint_classifier_new.h5')\n",
    "pred_labels=[]\n",
    "start_time = time.time()\n",
    "pred_probabs = model.predict(X_test)\n",
    "end_time = time.time()\n",
    "pred_time = end_time - start_time\n",
    "avg_pred_time = pred_time / X_test.shape[0]\n",
    "print('Average prediction time: %fs' % (avg_pred_time))\n",
    "\n",
    "for pred_probab in pred_probabs:\n",
    "    pred_labels.append(list(pred_probab).index(max(pred_probab)))\n",
    "\n",
    "cm = confusion_matrix(y_test, np.array(pred_labels))\n",
    "\n",
    "classification_report = classification_report(y_test, np.array(pred_labels))\n",
    "print('\\n\\nClassification Report')\n",
    "print('---------------------------')\n",
    "print(classification_report)\n",
    "plot_confusion_matrix(cm, range(10), normalize=False)\n"
   ]
  },
  {
   "cell_type": "code",
   "execution_count": 317,
   "metadata": {
    "pycharm": {
     "name": "#%%\n"
    }
   },
   "outputs": [
    {
     "name": "stdout",
     "output_type": "stream",
     "text": [
      "INFO:tensorflow:Assets written to: C:\\Users\\bimal\\AppData\\Local\\Temp\\tmpbvxsas80\\assets\n"
     ]
    },
    {
     "name": "stderr",
     "output_type": "stream",
     "text": [
      "INFO:tensorflow:Assets written to: C:\\Users\\bimal\\AppData\\Local\\Temp\\tmpbvxsas80\\assets\n",
      "WARNING:absl:Buffer deduplication procedure will be skipped when flatbuffer library is not properly loaded\n"
     ]
    },
    {
     "data": {
      "text/plain": "7344"
     },
     "execution_count": 317,
     "metadata": {},
     "output_type": "execute_result"
    }
   ],
   "source": [
    "tflite_save_path = 'model/keypoint_classifier/keypoint_classifier.tflite'\n",
    "\n",
    "converter = tf.lite.TFLiteConverter.from_keras_model(model)\n",
    "converter.optimizations = [tf.lite.Optimize.DEFAULT]\n",
    "tflite_quantized_model = converter.convert()\n",
    "\n",
    "open(tflite_save_path, 'wb').write(tflite_quantized_model)"
   ]
  },
  {
   "cell_type": "code",
   "execution_count": 318,
   "metadata": {
    "pycharm": {
     "name": "#%%\n"
    }
   },
   "outputs": [
    {
     "name": "stdout",
     "output_type": "stream",
     "text": [
      "('You must install pydot (`pip install pydot`) and install graphviz (see instructions at https://graphviz.gitlab.io/download/) ', 'for plot_model/model_to_dot to work.')\n"
     ]
    }
   ],
   "source": [
    "tf.keras.utils.plot_model(\n",
    "    model,\n",
    "    to_file=\"model.png\",\n",
    "    show_shapes=True,\n",
    "    show_dtype=False,\n",
    "    show_layer_names=True,\n",
    "    rankdir=\"TB\",\n",
    "    expand_nested=False,\n",
    "    dpi=96,\n",
    "    layer_range=None,\n",
    ")"
   ]
  },
  {
   "cell_type": "code",
   "execution_count": 319,
   "outputs": [
    {
     "data": {
      "text/plain": "<PIL.Image.Image image mode=RGBA size=415x63 at 0x2B20174F508>",
      "image/png": "[encoded data removed]"
     },
     "execution_count": 319,
     "metadata": {},
     "output_type": "execute_result"
    }
   ],
   "source": [
    "from PIL import ImageFont\n",
    "import visualkeras\n",
    "visualkeras.layered_view(model,legend=True,scale_xy=10, scale_z=3, max_z=5000,to_file='model.png')"
   ],
   "metadata": {
    "collapsed": false,
    "pycharm": {
     "name": "#%%\n"
    }
   }
  },
  {
   "cell_type": "code",
   "execution_count": 319,
   "outputs": [],
   "source": [],
   "metadata": {
    "collapsed": false,
    "pycharm": {
     "name": "#%%\n"
    }
   }
  }
 ],
 "metadata": {
  "kernelspec": {
   "display_name": "Python 3.7.4 64-bit",
   "language": "python",
   "name": "python3"
  },
  "language_info": {
   "codemirror_mode": {
    "name": "ipython",
    "version": 3
   },
   "file_extension": ".py",
   "mimetype": "text/x-python",
   "name": "python",
   "nbconvert_exporter": "python",
   "pygments_lexer": "ipython3",
   "version": "3.7.4"
  },
  "orig_nbformat": 4,
  "vscode": {
   "interpreter": {
    "hash": "d4bdbe632bbd0f8a54d3cc90cb819453aecfd318ed19526447df9afdf12a51bb"
   }
  }
 },
 "nbformat": 4,
 "nbformat_minor": 2
}